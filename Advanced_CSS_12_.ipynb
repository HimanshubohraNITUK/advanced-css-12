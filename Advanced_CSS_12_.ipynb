{
  "nbformat": 4,
  "nbformat_minor": 0,
  "metadata": {
    "colab": {
      "provenance": []
    },
    "kernelspec": {
      "name": "python3",
      "display_name": "Python 3"
    },
    "language_info": {
      "name": "python"
    }
  },
  "cells": [
    {
      "cell_type": "code",
      "execution_count": null,
      "metadata": {
        "id": "2cdFEoJOHTO8"
      },
      "outputs": [],
      "source": [
        "Task 1 - Explain the purpose of using the var() function in css. Also you have created two buttons with id named\n",
        "primaryBtn and secondaryBtn which should be given background colors using the var() function. The color\n",
        "code for primaryColor is #00b7ff and secondaryColor is #6c757d ?"
      ]
    },
    {
      "cell_type": "code",
      "source": [
        "The var() function is used to insert the value of a CSS variable into your stylesheet.\n",
        "Just like in maths or programming, variables help us store values, so we don’t have to repeat the same thing again and again.\n",
        "Easier to change styles:\n",
        "If you want to change a color used in many places, just change it once in the variable.\n",
        "Cleaner code:\n",
        "Instead of repeating long color codes everywhere, you can use simple names like --primaryColor.\n",
        "Reusability:\n",
        "Use the same value again and again without typing it multiple times.\n",
        "- html\n",
        "<!DOCTYPE html>\n",
        "<html lang=\"en\">\n",
        "<head>\n",
        "  <meta charset=\"UTF-8\">\n",
        "  <title>Button Colors with var()</title>\n",
        "  <link rel=\"stylesheet\" href=\"styles.css\">\n",
        "</head>\n",
        "<body>\n",
        "\n",
        "  <button id=\"primaryBtn\">Primary Button</button>\n",
        "  <button id=\"secondaryBtn\">Secondary Button</button>\n",
        "\n",
        "</body>\n",
        "</html>\n",
        "\n",
        "css\n",
        "/* Step 1: Define variables in :root */\n",
        ":root {\n",
        "  --primaryColor: #00b7ff;\n",
        "  --secondaryColor: #6c757d;\n",
        "}\n",
        "\n",
        "/* Step 2: Use variables with var() */\n",
        "#primaryBtn {\n",
        "  background-color: var(--primaryColor);\n",
        "  color: white;\n",
        "  padding: 10px 20px;\n",
        "  border: none;\n",
        "  border-radius: 5px;\n",
        "  font-size: 16px;\n",
        "}\n",
        "\n",
        "#secondaryBtn {\n",
        "  background-color: var(--secondaryColor);\n",
        "  color: white;\n",
        "  padding: 10px 20px;\n",
        "  border: none;\n",
        "  border-radius: 5px;\n",
        "  font-size: 16px;\n",
        "}\n"
      ],
      "metadata": {
        "id": "Tv2e9G7qHjGx"
      },
      "execution_count": null,
      "outputs": []
    },
    {
      "cell_type": "markdown",
      "source": [],
      "metadata": {
        "id": "ZvwMwr7PJNWm"
      }
    },
    {
      "cell_type": "code",
      "source": [],
      "metadata": {
        "id": "269nfIdUKDLq"
      },
      "execution_count": null,
      "outputs": []
    },
    {
      "cell_type": "markdown",
      "source": [
        "Task 2 - Create a cube like given in daigram\n"
      ],
      "metadata": {
        "id": "gbDY2piFJLEN"
      }
    },
    {
      "cell_type": "code",
      "source": [
        "HTML\n",
        "<!DOCTYPE html>\n",
        "<html lang=\"en\">\n",
        "<head>\n",
        "  <meta charset=\"UTF-8\">\n",
        "  <title>3D Cube</title>\n",
        "  <link rel=\"stylesheet\" href=\"style.css\">\n",
        "</head>\n",
        "<body>\n",
        "\n",
        "<div class=\"scene\">\n",
        "  <div class=\"cube\">\n",
        "    <div class=\"face front\">Front</div>\n",
        "    <div class=\"face back\">Back</div>\n",
        "    <div class=\"face right\">Right</div>\n",
        "    <div class=\"face left\">Left</div>\n",
        "    <div class=\"face top\">Top</div>\n",
        "    <div class=\"face bottom\">Bottom</div>\n",
        "  </div>\n",
        "</div>\n",
        "\n",
        "</body>\n",
        "</html>\n",
        "\n",
        "CSS Vbody {\n",
        "  margin: 0;\n",
        "  height: 100vh;\n",
        "  background: #f1f1f1;\n",
        "  display: flex;\n",
        "  justify-content: center;\n",
        "  align-items: center;\n",
        "}\n",
        "\n",
        ".scene {\n",
        "  width: 200px;\n",
        "  height: 200px;\n",
        "  perspective: 600px; /* Adds depth */\n",
        "}\n",
        "\n",
        ".cube {\n",
        "  width: 100px;\n",
        "  height: 100px;\n",
        "  position: relative;\n",
        "  transform-style: preserve-3d;\n",
        "  transform: rotateX(-30deg) rotateY(-30deg);\n",
        "  animation: rotateCube 10s infinite linear;\n",
        "}\n",
        "\n",
        ".face {\n",
        "  position: absolute;\n",
        "  width: 100px;\n",
        "  height: 100px;\n",
        "  background: rgba(0, 123, 255, 0.7);\n",
        "  border: 2px solid #000;\n",
        "  font-weight: bold;\n",
        "  font-family: Arial, sans-serif;\n",
        "  color: black;\n",
        "  display: flex;\n",
        "  justify-content: center;\n",
        "  align-items: center;\n",
        "  font-size: 16px;\n",
        "}\n",
        "\n",
        "/* Positioning each face in 3D */\n",
        ".front  { transform: translateZ(50px); }\n",
        ".back   { transform: rotateY(180deg) translateZ(50px); }\n",
        ".right  { transform: rotateY(90deg) translateZ(50px); }\n",
        ".left   { transform: rotateY(-90deg) translateZ(50px); }\n",
        ".top    { transform: rotateX(90deg) translateZ(50px); }\n",
        ".bottom { transform: rotateX(-90deg) translateZ(50px); }\n",
        "\n",
        "@keyframes rotateCube {\n",
        "  0%   { transform: rotateX(-30deg) rotateY(0deg); }\n",
        "  100% { transform: rotateX(-30deg) rotateY(360deg); }\n",
        "}\n"
      ],
      "metadata": {
        "id": "CPKVjV7fKJeJ"
      },
      "execution_count": null,
      "outputs": []
    },
    {
      "cell_type": "markdown",
      "source": [
        "Task 3 - Create a simple circular loader which will rotate continuously to look like a loading screen on a website.\n"
      ],
      "metadata": {
        "id": "W9T7q3YZKPME"
      }
    },
    {
      "cell_type": "code",
      "source": [
        "HTML\n",
        "<!DOCTYPE html>\n",
        "<html lang=\"en\">\n",
        "<head>\n",
        "  <meta charset=\"UTF-8\">\n",
        "  <title>Circular Loader</title>\n",
        "  <link rel=\"stylesheet\" href=\"style.css\">\n",
        "</head>\n",
        "<body>\n",
        "\n",
        "<div class=\"loader\"></div>\n",
        "\n",
        "</body>\n",
        "</html>\n",
        "\n",
        "CSS\n",
        "\n",
        "body {\n",
        "  display: flex;\n",
        "  justify-content: center;\n",
        "  align-items: center;\n",
        "  height: 100vh;\n",
        "  background-color: #f9f9f9;\n",
        "}\n",
        "\n",
        ".loader {\n",
        "  width: 80px;\n",
        "  height: 80px;\n",
        "  border: 8px solid #ccc;        /* Grey ring */\n",
        "  border-top: 8px solid #00b7ff; /* Blue rotating segment */\n",
        "  border-radius: 50%;\n",
        "  animation: spin 1s linear infinite;\n",
        "}\n",
        "\n",
        "/* Animation to rotate the loader */\n",
        "@keyframes spin {\n",
        "  0%   { transform: rotate(0deg); }\n",
        "  100% { transform: rotate(360deg); }\n",
        "}\n",
        "\n"
      ],
      "metadata": {
        "id": "uoOuz7LRKWAd"
      },
      "execution_count": null,
      "outputs": []
    },
    {
      "cell_type": "markdown",
      "source": [
        "Task 4 - You have to visit the PW Skills website (https://pwskills.com/) and have to hide the logo by using the developer\n",
        "tool. This should be done using the css and developer tool only, use of javascript is prohibited."
      ],
      "metadata": {
        "id": "NRSrincuOmgY"
      }
    },
    {
      "cell_type": "markdown",
      "source": [
        ".px-2 {\n",
        "    display: none;\n",
        "    padding-left: .5rem;\n",
        "    padding-right: .5rem;\n",
        "}\n",
        "\n",
        "class of icon was px-2 Ijust added display: none ;\n"
      ],
      "metadata": {
        "id": "0qhL3IVDRJPv"
      }
    },
    {
      "cell_type": "markdown",
      "source": [
        "Q5 - You have to visit the PW Skills website (https://pwskills.com/) and have to change the content of the ‘Login /\n",
        "Register’ button to ‘Connect with us’ using the developer tool. This should be done using the elements of\n",
        "developer tools only, use of javascript is prohibited."
      ],
      "metadata": {
        "id": "yGVVTlgHRada"
      }
    },
    {
      "cell_type": "code",
      "source": [
        "I changed the text inside button tag which contained Login/Register  to Contact with us and in the mean time it showed"
      ],
      "metadata": {
        "id": "z6fQdc4gRwgx"
      },
      "execution_count": null,
      "outputs": []
    }
  ]
}